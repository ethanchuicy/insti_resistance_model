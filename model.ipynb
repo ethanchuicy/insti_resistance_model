{
  "nbformat": 4,
  "nbformat_minor": 0,
  "metadata": {
    "colab": {
      "provenance": [],
      "authorship_tag": "ABX9TyNXvTECHEtooYEMVDi4mAHM",
      "include_colab_link": true
    },
    "kernelspec": {
      "name": "python3",
      "display_name": "Python 3"
    },
    "language_info": {
      "name": "python"
    }
  },
  "cells": [
    {
      "cell_type": "markdown",
      "metadata": {
        "id": "view-in-github",
        "colab_type": "text"
      },
      "source": [
        "<a href=\"https://colab.research.google.com/github/ethanchuicy/insti_resistance_model/blob/main/model.ipynb\" target=\"_parent\"><img src=\"https://colab.research.google.com/assets/colab-badge.svg\" alt=\"Open In Colab\"/></a>"
      ]
    },
    {
      "cell_type": "code",
      "execution_count": null,
      "metadata": {
        "colab": {
          "base_uri": "https://localhost:8080/"
        },
        "id": "RYlKe0_-Criw",
        "outputId": "579f7485-4f12-434b-8a16-1a9eb1c0df29"
      },
      "outputs": [
        {
          "output_type": "stream",
          "name": "stdout",
          "text": [
            "      RefID  IsolateID     IsolateName Species      Type      PtID  \\\n",
            "0      1497      82027            263K    HIV1       Lab       NaN   \n",
            "1      1497      82021      92Q+147G+1    HIV1       Lab       NaN   \n",
            "2      1497      82023            121Y    HIV1       Lab       NaN   \n",
            "3      1497      82014             51Y    HIV1       Lab       NaN   \n",
            "4      1497      82022      92Q+147G+2    HIV1       Lab       NaN   \n",
            "...     ...        ...             ...     ...       ...       ...   \n",
            "1098   3136     642656  HPTN083_D3_W33    HIV1  Clinical  321364.0   \n",
            "1099   3136     642659  HPTN083_D4_W37    HIV1  Clinical  321365.0   \n",
            "1100   3197     664048            ISO3    HIV1       Lab       NaN   \n",
            "1101   3197     664046            ISO1    HIV1       Lab       NaN   \n",
            "1102   3197     664047            ISO2    HIV1       Lab       NaN   \n",
            "\n",
            "          Method  BIC BICFoldMatch   CAB  ... P279  P280 P281 P282 P283 P284  \\\n",
            "0     PhenoSense  NaN          NaN   NaN  ...    -     -    -    -    -    -   \n",
            "1     PhenoSense  NaN          NaN   NaN  ...    -     -    -    -    -    -   \n",
            "2     PhenoSense  NaN          NaN   NaN  ...    -     -    -    -    -    -   \n",
            "3     PhenoSense  NaN          NaN   NaN  ...    -     -    -    -    -    -   \n",
            "4     PhenoSense  NaN          NaN   NaN  ...    -     -    -    -    -    -   \n",
            "...          ...  ...          ...   ...  ...  ...   ...  ...  ...  ...  ...   \n",
            "1098  PhenoSense  2.9            =   2.3  ...    -     -    -    -    -    -   \n",
            "1099  PhenoSense  2.8            =  13.0  ...    -     -    -    -    -    -   \n",
            "1100  PhenoSense  NaN          NaN   NaN  ...    -     -    -    -    -    -   \n",
            "1101  PhenoSense  NaN          NaN   NaN  ...    -     -    -    -    -    -   \n",
            "1102  PhenoSense  NaN          NaN   NaN  ...    -     -    -    -    -    -   \n",
            "\n",
            "     P285 P286 P287 P288  \n",
            "0       -    -    -    -  \n",
            "1       -    -    -    -  \n",
            "2       -    -    -    -  \n",
            "3       -    -    -    -  \n",
            "4       -    -    -    -  \n",
            "...   ...  ...  ...  ...  \n",
            "1098    -    -    -    -  \n",
            "1099    -    -    -    -  \n",
            "1100    -    -    -    -  \n",
            "1101    -    -    -    -  \n",
            "1102    -    -    -    -  \n",
            "\n",
            "[1103 rows x 313 columns]\n"
          ]
        }
      ],
      "source": [
        "import pandas as pd\n",
        "col_names = []\n",
        "df = pd.read_csv('/integrase_dataset', sep='\\t')\n",
        "print(df)"
      ]
    },
    {
      "cell_type": "code",
      "source": [
        "df = df.drop(columns = ['RefID', 'IsolateID', 'IsolateName', 'Species', 'Type', 'PtID', 'Method'])\n",
        "print(df.head())"
      ],
      "metadata": {
        "colab": {
          "base_uri": "https://localhost:8080/",
          "height": 158
        },
        "id": "FeekzCSIEJfa",
        "outputId": "d28124e8-dee8-4002-aa07-4059104b7b6d"
      },
      "execution_count": 1,
      "outputs": [
        {
          "output_type": "error",
          "ename": "NameError",
          "evalue": "name 'df' is not defined",
          "traceback": [
            "\u001b[0;31m---------------------------------------------------------------------------\u001b[0m",
            "\u001b[0;31mNameError\u001b[0m                                 Traceback (most recent call last)",
            "\u001b[0;32m<ipython-input-1-10b47d01213c>\u001b[0m in \u001b[0;36m<cell line: 0>\u001b[0;34m()\u001b[0m\n\u001b[0;32m----> 1\u001b[0;31m \u001b[0mdf\u001b[0m \u001b[0;34m=\u001b[0m \u001b[0mdf\u001b[0m\u001b[0;34m.\u001b[0m\u001b[0mdrop\u001b[0m\u001b[0;34m(\u001b[0m\u001b[0mcolumns\u001b[0m \u001b[0;34m=\u001b[0m \u001b[0;34m[\u001b[0m\u001b[0;34m'RefID'\u001b[0m\u001b[0;34m,\u001b[0m \u001b[0;34m'IsolateID'\u001b[0m\u001b[0;34m,\u001b[0m \u001b[0;34m'IsolateName'\u001b[0m\u001b[0;34m,\u001b[0m \u001b[0;34m'Species'\u001b[0m\u001b[0;34m,\u001b[0m \u001b[0;34m'Type'\u001b[0m\u001b[0;34m,\u001b[0m \u001b[0;34m'PtID'\u001b[0m\u001b[0;34m,\u001b[0m \u001b[0;34m'Method'\u001b[0m\u001b[0;34m]\u001b[0m\u001b[0;34m)\u001b[0m\u001b[0;34m\u001b[0m\u001b[0;34m\u001b[0m\u001b[0m\n\u001b[0m\u001b[1;32m      2\u001b[0m \u001b[0mprint\u001b[0m\u001b[0;34m(\u001b[0m\u001b[0mdf\u001b[0m\u001b[0;34m.\u001b[0m\u001b[0mhead\u001b[0m\u001b[0;34m(\u001b[0m\u001b[0;34m)\u001b[0m\u001b[0;34m)\u001b[0m\u001b[0;34m\u001b[0m\u001b[0;34m\u001b[0m\u001b[0m\n",
            "\u001b[0;31mNameError\u001b[0m: name 'df' is not defined"
          ]
        }
      ]
    },
    {
      "cell_type": "code",
      "source": [
        "df1= df.drop(columns = ['BICFoldMatch', 'CABFoldMatch', 'DTGFoldMatch', 'EVGFoldMatch', 'RALFoldMatch', 'CompleteMutationListAvailable', 'Author'])\n",
        "print(df1.head())"
      ],
      "metadata": {
        "id": "J75x2mOfF-93"
      },
      "execution_count": null,
      "outputs": []
    },
    {
      "cell_type": "code",
      "source": [
        "df2= df1.drop(columns=['INIMajorDRMs', 'INIMinorDRMs', 'NonDRMs', 'RefYear', 'MedlineID'])\n",
        "print(df2.head())"
      ],
      "metadata": {
        "id": "hZ1ubuilHToQ"
      },
      "execution_count": null,
      "outputs": []
    },
    {
      "cell_type": "code",
      "source": [
        "df3= df2.drop(columns=['Title'])\n",
        "print(df3.head())"
      ],
      "metadata": {
        "id": "F6-FgTjpHo35"
      },
      "execution_count": null,
      "outputs": []
    },
    {
      "cell_type": "code",
      "source": [
        "all_pos_columns = [f'P{i}' for i in range(1, 289)]\n",
        "df3[all_pos_columns] = df3[all_pos_columns].replace('-', 0)\n",
        "print(df3.head())"
      ],
      "metadata": {
        "id": "cJBJ-HVLH3mC"
      },
      "execution_count": null,
      "outputs": []
    },
    {
      "cell_type": "code",
      "source": [
        "#Apply one-hot encoding\n",
        "encoded_df = pd.get_dummies(df3[all_pos_columns])\n",
        "\n",
        "#Combine the encoded columns with the original DataFrame\n",
        "df4 = df3.drop(all_pos_columns, axis=1)  # Drop the original column\n",
        "df5 = pd.concat([df4, encoded_df], axis=1)  # Concatenate the new one-hot encoded columns\n",
        "\n",
        "\n",
        "\n",
        "print(df5)"
      ],
      "metadata": {
        "id": "mirhjLM7OeA_"
      },
      "execution_count": null,
      "outputs": []
    },
    {
      "cell_type": "code",
      "source": [
        "df5['EVG'] = pd.to_numeric(df5['EVG'], errors='coerce')\n"
      ],
      "metadata": {
        "id": "75GAK9kpWJDw"
      },
      "execution_count": null,
      "outputs": []
    },
    {
      "cell_type": "code",
      "source": [
        "df5['RAL'] = pd.to_numeric(df5['RAL'], errors='coerce')"
      ],
      "metadata": {
        "id": "4nPa6CZFcSFZ"
      },
      "execution_count": null,
      "outputs": []
    },
    {
      "cell_type": "code",
      "source": [
        "df_filled = df5.fillna(-999)\n",
        "bic_list = df_filled['BIC'].to_list()\n",
        "cab_list = df_filled['CAB'].to_list()\n",
        "dtg_list = df_filled['DTG'].to_list()\n",
        "evg_list = df_filled['EVG'].to_list()\n",
        "ral_list = df_filled['RAL'].to_list()\n",
        "\n",
        "resistance= []\n",
        "\n",
        "for i in range(0, 1103):\n",
        "  if bic_list[i]>3.5:\n",
        "    resistance.append(1)\n",
        "  elif cab_list[i]>3.5:\n",
        "    resistance.append(1)\n",
        "  elif dtg_list[i]>3.5:\n",
        "    resistance.append(1)\n",
        "  elif evg_list[i]>3.5:\n",
        "    resistance.append(1)\n",
        "  elif ral_list[i]>3.5:\n",
        "    resistance.append(1)\n",
        "  else:\n",
        "    resistance.append(0)\n",
        "\n",
        "print(resistance)\n",
        "print(len(resistance))"
      ],
      "metadata": {
        "id": "diuKXr4GQ9Un"
      },
      "execution_count": null,
      "outputs": []
    },
    {
      "cell_type": "code",
      "source": [
        "df5['Resistance']= resistance\n",
        "print(df5.head())"
      ],
      "metadata": {
        "id": "hBkUe18icl3b"
      },
      "execution_count": null,
      "outputs": []
    },
    {
      "cell_type": "code",
      "source": [
        "columns_to_exclude = ['BIC', 'CAB', 'DTG', 'EVG', 'RAL', 'Resistance']\n",
        "df_selected = df5.drop(columns=columns_to_exclude)\n",
        "X = df_selected\n",
        "y= df5['Resistance']"
      ],
      "metadata": {
        "id": "28tsXSAZdJ4n"
      },
      "execution_count": null,
      "outputs": []
    },
    {
      "cell_type": "code",
      "source": [
        "from sklearn.model_selection import KFold\n",
        "from sklearn.model_selection import cross_val_score\n",
        "\n",
        "cv = KFold(n_splits=10, random_state=1, shuffle=True)"
      ],
      "metadata": {
        "id": "wZP6CtetQwIv"
      },
      "execution_count": null,
      "outputs": []
    },
    {
      "cell_type": "code",
      "source": [
        "# evaluate a logistic regression model using k-fold cross-validation\n",
        "from numpy import mean\n",
        "from numpy import std\n",
        "from sklearn.linear_model import LogisticRegression\n",
        "\n",
        "my_lambda = 10\n",
        "c = 1/my_lambda\n",
        "model = LogisticRegression(solver='liblinear', penalty='l1', C=c)\n",
        "score = cross_val_score(model, X, y, cv=cv, n_jobs=-1)\n",
        "\n",
        "print(score)\n",
        "print(mean(score))\n",
        "print(std(score))"
      ],
      "metadata": {
        "id": "Pq3b88lJeRmf"
      },
      "execution_count": null,
      "outputs": []
    },
    {
      "cell_type": "code",
      "source": [
        "from sklearn.model_selection import train_test_split\n",
        "X_train, X_test, y_train, y_test = train_test_split(X, y, test_size=0.2, random_state=10)"
      ],
      "metadata": {
        "id": "k4oTmE_VCkKC"
      },
      "execution_count": null,
      "outputs": []
    },
    {
      "cell_type": "code",
      "source": [
        "final_model = model.fit(X_train, y_train)\n",
        "prediction = final_model.predict(X_test)\n",
        "from sklearn import metrics\n",
        "cnf_matrix = metrics.confusion_matrix(y_test, prediction)\n"
      ],
      "metadata": {
        "id": "X0VCLZdMeaCF"
      },
      "execution_count": null,
      "outputs": []
    },
    {
      "cell_type": "code",
      "source": [
        "import sys\n",
        "import numpy as np\n",
        "np.set_printoptions(threshold=sys.maxsize)\n",
        "print(final_model.coef_)"
      ],
      "metadata": {
        "id": "3zGpNsgqgUYw"
      },
      "execution_count": null,
      "outputs": []
    },
    {
      "cell_type": "code",
      "source": [
        "coef_list = final_model.coef_.tolist()\n",
        "index_list = []\n",
        "\n",
        "for i in range(len(coef_list[0])):\n",
        "  if coef_list[0][i] != 0:\n",
        "    index_list.append(i)\n",
        "\n",
        "\n",
        "print(index_list)\n",
        "\n",
        "col_names = X.columns.values.tolist()\n",
        "print(col_names[466])\n",
        "\n",
        "print(coef_list[0][466])\n",
        "\n",
        "for i in index_list:\n",
        "  print(col_names[i])\n",
        "  print(coef_list[0][i])\n",
        "\n",
        "\n",
        "\n"
      ],
      "metadata": {
        "id": "h6nJvzBfj57x"
      },
      "execution_count": null,
      "outputs": []
    },
    {
      "cell_type": "code",
      "source": [
        "from sklearn.metrics import classification_report\n",
        "target_names = ['Not Resistant', 'Resistant']\n",
        "print(classification_report(y_test, prediction, target_names=target_names))"
      ],
      "metadata": {
        "id": "UkkIqbMyhP80"
      },
      "execution_count": null,
      "outputs": []
    },
    {
      "cell_type": "code",
      "source": [
        "# import modules\n",
        "import numpy as np\n",
        "import matplotlib.pyplot as plt\n",
        "import seaborn as sns\n",
        "\n",
        "class_names=['Not Resistant', 'Resistant'] # name  of classes\n",
        "fig, ax = plt.subplots()\n",
        "# create confusion matrix\n",
        "sns.heatmap(pd.DataFrame(cnf_matrix), annot=True, cmap=\"YlGnBu\" ,fmt='g', annot_kws={\"size\": 14, \"weight\": \"bold\"})\n",
        "ax.xaxis.set_label_position(\"top\")\n",
        "plt.tight_layout()\n",
        "plt.ylabel('Actual label', fontsize=12, fontweight=\"bold\")\n",
        "plt.xlabel('Predicted label', fontsize=12, fontweight=\"bold\")\n",
        "ax.set_xticklabels(class_names, fontsize=12, fontweight=\"bold\" )\n",
        "ax.set_yticklabels(class_names, fontsize=12, fontweight=\"bold\" )\n",
        "cbar = ax.collections[0].colorbar\n",
        "cbar.ax.tick_params(labelsize=12, labelcolor='black')  # Tick size and color\n",
        "for label in cbar.ax.get_yticklabels():\n",
        "    label.set_fontweight(\"bold\")\n",
        "\n"
      ],
      "metadata": {
        "id": "_FOnIUQfcJq6"
      },
      "execution_count": null,
      "outputs": []
    },
    {
      "cell_type": "code",
      "source": [
        "y_pred_proba = model.predict_proba(X_test)[::,1]\n",
        "fpr, tpr, _ = metrics.roc_curve(y_test,  y_pred_proba)\n",
        "auc = metrics.roc_auc_score(y_test, y_pred_proba)\n",
        "plt.plot(fpr,tpr,label=\"AUC=\"+str(round(auc, 2)))\n",
        "plt.legend(loc=4)\n",
        "plt.title('ROC Curve for Final Model')\n",
        "plt.ylabel('True Positive Rate')\n",
        "plt.xlabel('False Positive Rate')\n",
        "plt.show()"
      ],
      "metadata": {
        "id": "ZGGDHJOydP3H"
      },
      "execution_count": null,
      "outputs": []
    }
  ]
}