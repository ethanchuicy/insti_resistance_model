{
  "nbformat": 4,
  "nbformat_minor": 0,
  "metadata": {
    "colab": {
      "provenance": [],
      "authorship_tag": "ABX9TyNXFrpWrcYqk/UoCRiwj/8R",
      "include_colab_link": true
    },
    "kernelspec": {
      "name": "python3",
      "display_name": "Python 3"
    },
    "language_info": {
      "name": "python"
    }
  },
  "cells": [
    {
      "cell_type": "markdown",
      "metadata": {
        "id": "view-in-github",
        "colab_type": "text"
      },
      "source": [
        "<a href=\"https://colab.research.google.com/github/ethanchuicy/insti_resistance_model/blob/main/model.ipynb\" target=\"_parent\"><img src=\"https://colab.research.google.com/assets/colab-badge.svg\" alt=\"Open In Colab\"/></a>"
      ]
    },
    {
      "cell_type": "code",
      "execution_count": 1,
      "metadata": {
        "id": "RYlKe0_-Criw",
        "colab": {
          "base_uri": "https://localhost:8080/"
        },
        "outputId": "179e8143-01b4-40eb-d41c-9a17f257842f"
      },
      "outputs": [
        {
          "output_type": "stream",
          "name": "stdout",
          "text": [
            "      RefID  IsolateID     IsolateName Species      Type      PtID  \\\n",
            "0      1497      82027            263K    HIV1       Lab       NaN   \n",
            "1      1497      82021      92Q+147G+1    HIV1       Lab       NaN   \n",
            "2      1497      82023            121Y    HIV1       Lab       NaN   \n",
            "3      1497      82014             51Y    HIV1       Lab       NaN   \n",
            "4      1497      82022      92Q+147G+2    HIV1       Lab       NaN   \n",
            "...     ...        ...             ...     ...       ...       ...   \n",
            "1098   3136     642656  HPTN083_D3_W33    HIV1  Clinical  321364.0   \n",
            "1099   3136     642659  HPTN083_D4_W37    HIV1  Clinical  321365.0   \n",
            "1100   3197     664048            ISO3    HIV1       Lab       NaN   \n",
            "1101   3197     664046            ISO1    HIV1       Lab       NaN   \n",
            "1102   3197     664047            ISO2    HIV1       Lab       NaN   \n",
            "\n",
            "          Method  BIC BICFoldMatch   CAB  ... P279  P280 P281 P282 P283 P284  \\\n",
            "0     PhenoSense  NaN          NaN   NaN  ...    -     -    -    -    -    -   \n",
            "1     PhenoSense  NaN          NaN   NaN  ...    -     -    -    -    -    -   \n",
            "2     PhenoSense  NaN          NaN   NaN  ...    -     -    -    -    -    -   \n",
            "3     PhenoSense  NaN          NaN   NaN  ...    -     -    -    -    -    -   \n",
            "4     PhenoSense  NaN          NaN   NaN  ...    -     -    -    -    -    -   \n",
            "...          ...  ...          ...   ...  ...  ...   ...  ...  ...  ...  ...   \n",
            "1098  PhenoSense  2.9            =   2.3  ...    -     -    -    -    -    -   \n",
            "1099  PhenoSense  2.8            =  13.0  ...    -     -    -    -    -    -   \n",
            "1100  PhenoSense  NaN          NaN   NaN  ...    -     -    -    -    -    -   \n",
            "1101  PhenoSense  NaN          NaN   NaN  ...    -     -    -    -    -    -   \n",
            "1102  PhenoSense  NaN          NaN   NaN  ...    -     -    -    -    -    -   \n",
            "\n",
            "     P285 P286 P287 P288  \n",
            "0       -    -    -    -  \n",
            "1       -    -    -    -  \n",
            "2       -    -    -    -  \n",
            "3       -    -    -    -  \n",
            "4       -    -    -    -  \n",
            "...   ...  ...  ...  ...  \n",
            "1098    -    -    -    -  \n",
            "1099    -    -    -    -  \n",
            "1100    -    -    -    -  \n",
            "1101    -    -    -    -  \n",
            "1102    -    -    -    -  \n",
            "\n",
            "[1103 rows x 313 columns]\n"
          ]
        }
      ],
      "source": [
        "#Import dataset\n",
        "import pandas as pd\n",
        "col_names = []\n",
        "df = pd.read_csv('/integrase_dataset', sep='\\t')\n",
        "print(df)"
      ]
    },
    {
      "cell_type": "code",
      "source": [
        "df = df.drop(columns = ['RefID', 'IsolateID', 'IsolateName', 'Species', 'Type', 'PtID', 'Method'])\n",
        "print(df.head())"
      ],
      "metadata": {
        "id": "FeekzCSIEJfa",
        "colab": {
          "base_uri": "https://localhost:8080/"
        },
        "outputId": "eae4f364-89a5-4977-96d1-9cf9805f9109"
      },
      "execution_count": 2,
      "outputs": [
        {
          "output_type": "stream",
          "name": "stdout",
          "text": [
            "   BIC BICFoldMatch  CAB CABFoldMatch  DTG DTGFoldMatch  EVG EVGFoldMatch  \\\n",
            "0  NaN          NaN  NaN          NaN  NaN          NaN  4.9            =   \n",
            "1  NaN          NaN  NaN          NaN  NaN          NaN  160            =   \n",
            "2  NaN          NaN  NaN          NaN  NaN          NaN   11            =   \n",
            "3  NaN          NaN  NaN          NaN  NaN          NaN  4.0            =   \n",
            "4  NaN          NaN  NaN          NaN  NaN          NaN  182            =   \n",
            "\n",
            "   RAL RALFoldMatch  ... P279 P280 P281 P282 P283  P284  P285 P286 P287 P288  \n",
            "0  1.4            =  ...    -    -    -    -    -     -     -    -    -    -  \n",
            "1  6.4            =  ...    -    -    -    -    -     -     -    -    -    -  \n",
            "2  6.9            =  ...    -    -    -    -    -     -     -    -    -    -  \n",
            "3  NaN          NaN  ...    -    -    -    -    -     -     -    -    -    -  \n",
            "4  5.7            =  ...    -    -    -    -    -     -     -    -    -    -  \n",
            "\n",
            "[5 rows x 306 columns]\n"
          ]
        }
      ]
    },
    {
      "cell_type": "code",
      "source": [
        "df1= df.drop(columns = ['BICFoldMatch', 'CABFoldMatch', 'DTGFoldMatch', 'EVGFoldMatch', 'RALFoldMatch', 'CompleteMutationListAvailable', 'Author'])\n",
        "print(df1.head())"
      ],
      "metadata": {
        "id": "J75x2mOfF-93",
        "colab": {
          "base_uri": "https://localhost:8080/"
        },
        "outputId": "c1afbfe0-3a3a-478d-a9f4-3fdd656911a6"
      },
      "execution_count": 3,
      "outputs": [
        {
          "output_type": "stream",
          "name": "stdout",
          "text": [
            "   BIC  CAB  DTG  EVG  RAL       INIMajorDRMs  INIMinorDRMs  \\\n",
            "0  NaN  NaN  NaN  4.9  1.4              R263K         D232N   \n",
            "1  NaN  NaN  NaN  160  6.4  H51Y, E92Q, S147G         D232N   \n",
            "2  NaN  NaN  NaN   11  6.9              F121Y         D232N   \n",
            "3  NaN  NaN  NaN  4.0  NaN               H51Y         D232N   \n",
            "4  NaN  NaN  NaN  182  5.7  H51Y, E92Q, S147G  E157Q, D232N   \n",
            "\n",
            "                           NonDRMs  RefYear  MedlineID  ... P279 P280 P281  \\\n",
            "0  E10D, I72V, S123G, T124A, K127R     2007        NaN  ...    -    -    -   \n",
            "1  E10D, I72V, S123G, T124A, K127R     2007        NaN  ...    -    -    -   \n",
            "2  E10D, I72V, S123G, T124A, K127R     2007        NaN  ...    -    -    -   \n",
            "3  E10D, I72V, S123G, T124A, K127R     2007        NaN  ...    -    -    -   \n",
            "4  E10D, I72V, S123G, T124A, K127R     2007        NaN  ...    -    -    -   \n",
            "\n",
            "  P282 P283 P284 P285 P286 P287 P288  \n",
            "0    -    -    -    -    -    -    -  \n",
            "1    -    -    -    -    -    -    -  \n",
            "2    -    -    -    -    -    -    -  \n",
            "3    -    -    -    -    -    -    -  \n",
            "4    -    -    -    -    -    -    -  \n",
            "\n",
            "[5 rows x 299 columns]\n"
          ]
        }
      ]
    },
    {
      "cell_type": "code",
      "source": [
        "df2= df1.drop(columns=['INIMajorDRMs', 'INIMinorDRMs', 'NonDRMs', 'RefYear', 'MedlineID'])\n",
        "print(df2.head())"
      ],
      "metadata": {
        "id": "hZ1ubuilHToQ",
        "colab": {
          "base_uri": "https://localhost:8080/"
        },
        "outputId": "a033b1a8-cc4e-45c0-fe9a-00281a203cd6"
      },
      "execution_count": 4,
      "outputs": [
        {
          "output_type": "stream",
          "name": "stdout",
          "text": [
            "   BIC  CAB  DTG  EVG  RAL                                              Title  \\\n",
            "0  NaN  NaN  NaN  4.9  1.4  Resistance profile of HIV-1 mutants in vitro s...   \n",
            "1  NaN  NaN  NaN  160  6.4  Resistance profile of HIV-1 mutants in vitro s...   \n",
            "2  NaN  NaN  NaN   11  6.9  Resistance profile of HIV-1 mutants in vitro s...   \n",
            "3  NaN  NaN  NaN  4.0  NaN  Resistance profile of HIV-1 mutants in vitro s...   \n",
            "4  NaN  NaN  NaN  182  5.7  Resistance profile of HIV-1 mutants in vitro s...   \n",
            "\n",
            "  P1 P2 P3 P4  ... P279 P280 P281 P282 P283 P284 P285 P286 P287 P288  \n",
            "0  -  -  -  -  ...    -    -    -    -    -    -    -    -    -    -  \n",
            "1  -  -  -  -  ...    -    -    -    -    -    -    -    -    -    -  \n",
            "2  -  -  -  -  ...    -    -    -    -    -    -    -    -    -    -  \n",
            "3  -  -  -  -  ...    -    -    -    -    -    -    -    -    -    -  \n",
            "4  -  -  -  -  ...    -    -    -    -    -    -    -    -    -    -  \n",
            "\n",
            "[5 rows x 294 columns]\n"
          ]
        }
      ]
    },
    {
      "cell_type": "code",
      "source": [
        "df3= df2.drop(columns=['Title'])\n",
        "print(df3.head())"
      ],
      "metadata": {
        "id": "F6-FgTjpHo35",
        "colab": {
          "base_uri": "https://localhost:8080/"
        },
        "outputId": "a5b1dde5-3b54-4063-8fa2-49024f5c32ba"
      },
      "execution_count": 5,
      "outputs": [
        {
          "output_type": "stream",
          "name": "stdout",
          "text": [
            "   BIC  CAB  DTG  EVG  RAL P1 P2 P3 P4 P5  ... P279 P280 P281 P282 P283 P284  \\\n",
            "0  NaN  NaN  NaN  4.9  1.4  -  -  -  -  -  ...    -    -    -    -    -    -   \n",
            "1  NaN  NaN  NaN  160  6.4  -  -  -  -  -  ...    -    -    -    -    -    -   \n",
            "2  NaN  NaN  NaN   11  6.9  -  -  -  -  -  ...    -    -    -    -    -    -   \n",
            "3  NaN  NaN  NaN  4.0  NaN  -  -  -  -  -  ...    -    -    -    -    -    -   \n",
            "4  NaN  NaN  NaN  182  5.7  -  -  -  -  -  ...    -    -    -    -    -    -   \n",
            "\n",
            "  P285 P286 P287 P288  \n",
            "0    -    -    -    -  \n",
            "1    -    -    -    -  \n",
            "2    -    -    -    -  \n",
            "3    -    -    -    -  \n",
            "4    -    -    -    -  \n",
            "\n",
            "[5 rows x 293 columns]\n"
          ]
        }
      ]
    },
    {
      "cell_type": "code",
      "source": [
        "all_pos_columns = [f'P{i}' for i in range(1, 289)]\n",
        "df3[all_pos_columns] = df3[all_pos_columns].replace('-', 0)\n",
        "print(df3.head())"
      ],
      "metadata": {
        "id": "cJBJ-HVLH3mC",
        "colab": {
          "base_uri": "https://localhost:8080/"
        },
        "outputId": "0a938403-debf-470e-878c-403a19734f9c"
      },
      "execution_count": 6,
      "outputs": [
        {
          "output_type": "stream",
          "name": "stdout",
          "text": [
            "   BIC  CAB  DTG  EVG  RAL  P1 P2 P3 P4 P5  ... P279 P280 P281  P282 P283  \\\n",
            "0  NaN  NaN  NaN  4.9  1.4   0  0  0  0  0  ...    0    0    0     0    0   \n",
            "1  NaN  NaN  NaN  160  6.4   0  0  0  0  0  ...    0    0    0     0    0   \n",
            "2  NaN  NaN  NaN   11  6.9   0  0  0  0  0  ...    0    0    0     0    0   \n",
            "3  NaN  NaN  NaN  4.0  NaN   0  0  0  0  0  ...    0    0    0     0    0   \n",
            "4  NaN  NaN  NaN  182  5.7   0  0  0  0  0  ...    0    0    0     0    0   \n",
            "\n",
            "  P284 P285 P286 P287  P288  \n",
            "0    0    0    0    0     0  \n",
            "1    0    0    0    0     0  \n",
            "2    0    0    0    0     0  \n",
            "3    0    0    0    0     0  \n",
            "4    0    0    0    0     0  \n",
            "\n",
            "[5 rows x 293 columns]\n"
          ]
        },
        {
          "output_type": "stream",
          "name": "stderr",
          "text": [
            "<ipython-input-6-bfebfcaeb476>:2: FutureWarning: Downcasting behavior in `replace` is deprecated and will be removed in a future version. To retain the old behavior, explicitly call `result.infer_objects(copy=False)`. To opt-in to the future behavior, set `pd.set_option('future.no_silent_downcasting', True)`\n",
            "  df3[all_pos_columns] = df3[all_pos_columns].replace('-', 0)\n"
          ]
        }
      ]
    },
    {
      "cell_type": "code",
      "source": [
        "#Apply one-hot encoding\n",
        "encoded_df = pd.get_dummies(df3[all_pos_columns])\n",
        "\n",
        "\n",
        "df4 = df3.drop(all_pos_columns, axis=1)\n",
        "df5 = pd.concat([df4, encoded_df], axis=1)\n",
        "\n",
        "\n",
        "print(df5)"
      ],
      "metadata": {
        "id": "mirhjLM7OeA_",
        "colab": {
          "base_uri": "https://localhost:8080/"
        },
        "outputId": "beb8a8e7-0f00-456f-93c6-34f9f0b007a6"
      },
      "execution_count": 7,
      "outputs": [
        {
          "output_type": "stream",
          "name": "stdout",
          "text": [
            "      BIC   CAB   DTG  EVG  RAL  P1  P9  P15  P19  P29  ...  P286_DN  P286_N  \\\n",
            "0     NaN   NaN   NaN  4.9  1.4   0   0    0    0    0  ...    False   False   \n",
            "1     NaN   NaN   NaN  160  6.4   0   0    0    0    0  ...    False   False   \n",
            "2     NaN   NaN   NaN   11  6.9   0   0    0    0    0  ...    False   False   \n",
            "3     NaN   NaN   NaN  4.0  NaN   0   0    0    0    0  ...    False   False   \n",
            "4     NaN   NaN   NaN  182  5.7   0   0    0    0    0  ...    False   False   \n",
            "...   ...   ...   ...  ...  ...  ..  ..  ...  ...  ...  ...      ...     ...   \n",
            "1098  2.9   2.3   2.3  4.1  1.4   0   0    0    0    0  ...    False   False   \n",
            "1099  2.8  13.0   2.1  107   43   0   0    0    0    0  ...    False   False   \n",
            "1100  NaN   NaN  28.0  NaN  NaN   0   0    0    0    0  ...    False   False   \n",
            "1101  NaN   NaN   1.1  NaN  NaN   0   0    0    0    0  ...    False   False   \n",
            "1102  NaN   NaN   7.2  NaN  NaN   0   0    0    0    0  ...    False   False   \n",
            "\n",
            "      P287_0  P287_.  P287_EK  P288_0  P288_.  P288_DN  P288_N  P288_X  \n",
            "0       True   False    False    True   False    False   False   False  \n",
            "1       True   False    False    True   False    False   False   False  \n",
            "2       True   False    False    True   False    False   False   False  \n",
            "3       True   False    False    True   False    False   False   False  \n",
            "4       True   False    False    True   False    False   False   False  \n",
            "...      ...     ...      ...     ...     ...      ...     ...     ...  \n",
            "1098    True   False    False    True   False    False   False   False  \n",
            "1099    True   False    False    True   False    False   False   False  \n",
            "1100    True   False    False    True   False    False   False   False  \n",
            "1101    True   False    False    True   False    False   False   False  \n",
            "1102    True   False    False    True   False    False   False   False  \n",
            "\n",
            "[1103 rows x 1138 columns]\n"
          ]
        }
      ]
    },
    {
      "cell_type": "code",
      "source": [
        "df5['EVG'] = pd.to_numeric(df5['EVG'], errors='coerce')\n"
      ],
      "metadata": {
        "id": "75GAK9kpWJDw"
      },
      "execution_count": 8,
      "outputs": []
    },
    {
      "cell_type": "code",
      "source": [
        "df5['RAL'] = pd.to_numeric(df5['RAL'], errors='coerce')"
      ],
      "metadata": {
        "id": "4nPa6CZFcSFZ"
      },
      "execution_count": 9,
      "outputs": []
    },
    {
      "cell_type": "code",
      "source": [
        "df_filled = df5.fillna(-999)\n",
        "bic_list = df_filled['BIC'].to_list()\n",
        "cab_list = df_filled['CAB'].to_list()\n",
        "dtg_list = df_filled['DTG'].to_list()\n",
        "evg_list = df_filled['EVG'].to_list()\n",
        "ral_list = df_filled['RAL'].to_list()\n",
        "\n",
        "resistance= []\n",
        "\n",
        "for i in range(0, 1103):\n",
        "  if bic_list[i]>3.5:\n",
        "    resistance.append(1)\n",
        "  elif cab_list[i]>3.5:\n",
        "    resistance.append(1)\n",
        "  elif dtg_list[i]>3.5:\n",
        "    resistance.append(1)\n",
        "  elif evg_list[i]>3.5:\n",
        "    resistance.append(1)\n",
        "  elif ral_list[i]>3.5:\n",
        "    resistance.append(1)\n",
        "  else:\n",
        "    resistance.append(0)\n",
        "\n",
        "print(resistance)\n",
        "print(len(resistance))"
      ],
      "metadata": {
        "id": "diuKXr4GQ9Un",
        "colab": {
          "base_uri": "https://localhost:8080/"
        },
        "outputId": "31d82b9d-2919-4ee0-84db-fc1e4cfeb752"
      },
      "execution_count": 10,
      "outputs": [
        {
          "output_type": "stream",
          "name": "stdout",
          "text": [
            "[1, 1, 1, 1, 1, 1, 1, 1, 1, 1, 1, 1, 0, 1, 1, 1, 1, 1, 1, 1, 1, 0, 1, 1, 1, 1, 1, 1, 1, 1, 1, 0, 1, 1, 1, 1, 1, 1, 1, 1, 1, 1, 1, 1, 1, 1, 1, 1, 1, 0, 1, 0, 1, 0, 1, 0, 1, 0, 1, 0, 1, 1, 1, 1, 1, 1, 1, 1, 1, 1, 1, 1, 1, 1, 1, 1, 1, 1, 0, 1, 1, 1, 1, 1, 1, 1, 0, 1, 1, 1, 0, 1, 1, 1, 1, 0, 0, 1, 1, 1, 1, 1, 1, 1, 1, 1, 1, 0, 0, 0, 1, 1, 1, 1, 1, 1, 1, 0, 0, 1, 1, 1, 1, 1, 1, 1, 1, 1, 1, 0, 1, 1, 1, 0, 1, 1, 1, 0, 1, 1, 1, 1, 1, 1, 1, 1, 1, 1, 1, 1, 1, 1, 1, 1, 1, 1, 1, 1, 1, 1, 1, 1, 1, 1, 1, 1, 1, 1, 1, 1, 1, 1, 1, 1, 1, 1, 1, 1, 1, 1, 1, 1, 1, 1, 1, 1, 1, 1, 1, 1, 1, 1, 1, 1, 1, 1, 1, 1, 0, 1, 1, 1, 1, 1, 1, 0, 1, 0, 1, 0, 0, 0, 0, 0, 0, 0, 0, 0, 0, 0, 0, 0, 0, 0, 0, 0, 0, 0, 0, 0, 1, 0, 0, 0, 0, 0, 0, 0, 0, 0, 0, 0, 0, 0, 0, 0, 0, 0, 0, 0, 0, 0, 0, 1, 0, 0, 0, 0, 0, 0, 0, 0, 1, 0, 0, 0, 1, 1, 0, 0, 0, 0, 0, 0, 0, 0, 0, 0, 0, 0, 0, 0, 0, 0, 0, 0, 0, 1, 0, 0, 0, 0, 0, 0, 1, 0, 0, 0, 0, 0, 0, 0, 0, 0, 0, 0, 0, 0, 0, 0, 0, 0, 0, 0, 0, 0, 0, 0, 0, 0, 0, 0, 0, 0, 0, 0, 0, 0, 0, 0, 0, 0, 0, 0, 0, 0, 0, 0, 0, 1, 0, 0, 0, 0, 0, 0, 1, 0, 0, 0, 0, 1, 0, 1, 0, 0, 0, 0, 1, 1, 1, 0, 0, 0, 0, 1, 0, 1, 0, 0, 0, 0, 0, 0, 0, 0, 0, 0, 0, 0, 0, 0, 0, 0, 0, 0, 0, 0, 0, 0, 0, 0, 0, 0, 0, 1, 1, 0, 0, 0, 1, 0, 0, 1, 0, 0, 0, 0, 0, 0, 0, 0, 0, 0, 0, 0, 0, 0, 0, 0, 0, 0, 0, 0, 0, 0, 0, 0, 0, 0, 0, 0, 1, 0, 0, 0, 0, 0, 0, 1, 1, 0, 0, 1, 0, 0, 0, 0, 0, 0, 0, 0, 0, 0, 1, 0, 0, 0, 0, 0, 0, 0, 1, 0, 0, 0, 0, 1, 0, 0, 0, 0, 0, 0, 0, 0, 0, 1, 0, 0, 0, 0, 0, 0, 1, 0, 0, 0, 0, 1, 0, 0, 0, 0, 0, 0, 0, 0, 1, 1, 0, 0, 0, 0, 0, 0, 1, 0, 0, 0, 0, 0, 0, 0, 1, 0, 0, 0, 0, 0, 0, 0, 0, 0, 1, 0, 0, 0, 1, 0, 0, 0, 0, 0, 0, 0, 1, 1, 0, 0, 1, 0, 0, 0, 0, 0, 0, 0, 0, 0, 0, 0, 1, 0, 0, 0, 1, 0, 0, 0, 0, 0, 0, 0, 0, 0, 0, 0, 0, 0, 0, 0, 0, 0, 0, 0, 0, 0, 0, 0, 1, 0, 0, 0, 1, 0, 0, 0, 0, 0, 0, 0, 0, 0, 0, 0, 0, 0, 0, 0, 0, 1, 0, 0, 0, 0, 0, 0, 0, 0, 0, 0, 0, 0, 0, 0, 0, 1, 0, 0, 0, 1, 0, 0, 0, 1, 0, 0, 0, 0, 0, 0, 0, 1, 0, 0, 0, 0, 0, 0, 0, 0, 0, 0, 0, 0, 0, 0, 0, 0, 0, 1, 0, 1, 0, 0, 0, 0, 1, 0, 0, 1, 0, 0, 0, 0, 0, 0, 0, 0, 1, 0, 0, 1, 0, 0, 0, 0, 0, 0, 0, 0, 0, 1, 0, 0, 0, 0, 0, 0, 0, 0, 0, 0, 0, 0, 0, 0, 0, 0, 0, 0, 1, 0, 0, 0, 0, 0, 0, 1, 0, 0, 0, 0, 0, 0, 0, 0, 0, 0, 0, 0, 0, 0, 0, 1, 0, 0, 0, 1, 1, 0, 0, 0, 0, 0, 0, 1, 0, 0, 0, 0, 0, 0, 0, 0, 0, 0, 0, 0, 0, 0, 0, 0, 0, 0, 0, 0, 0, 0, 0, 0, 0, 1, 1, 1, 1, 0, 0, 1, 0, 1, 1, 1, 0, 1, 0, 0, 1, 0, 1, 0, 0, 1, 1, 1, 0, 1, 0, 1, 0, 0, 0, 1, 0, 1, 0, 1, 1, 0, 0, 1, 0, 0, 1, 1, 1, 1, 1, 0, 1, 1, 1, 0, 1, 0, 1, 1, 1, 0, 0, 0, 1, 1, 0, 0, 1, 0, 1, 0, 1, 1, 1, 0, 0, 1, 1, 1, 0, 0, 1, 1, 0, 1, 1, 1, 1, 1, 1, 1, 1, 1, 1, 1, 1, 1, 0, 0, 1, 1, 1, 1, 0, 0, 1, 1, 0, 0, 1, 1, 0, 1, 1, 1, 1, 1, 1, 1, 1, 1, 1, 1, 1, 0, 0, 1, 1, 1, 0, 1, 0, 1, 1, 0, 1, 1, 1, 1, 1, 1, 1, 1, 0, 1, 1, 0, 1, 0, 0, 1, 1, 0, 1, 1, 1, 1, 0, 0, 0, 1, 1, 0, 1, 0, 0, 0, 0, 1, 1, 1, 0, 1, 0, 0, 0, 0, 1, 1, 1, 1, 1, 1, 1, 0, 1, 1, 0, 1, 0, 1, 1, 0, 1, 1, 1, 0, 1, 1, 0, 0, 1, 1, 0, 1, 1, 1, 1, 1, 1, 1, 1, 0, 0, 0, 1, 0, 0, 0, 1, 0, 0, 1, 1, 1, 0, 1, 0, 1, 0, 1, 1, 1, 1, 1, 0, 1, 0, 1, 1, 1, 1, 1, 1, 0, 1, 1, 1, 0, 1, 1, 1, 0, 0, 1, 0, 0, 0, 1, 0, 1, 1, 0, 0, 1, 1, 0, 1, 0, 0, 1, 1, 1, 1, 0, 0, 1, 1, 0, 0, 1, 0, 0, 1, 1, 1, 1, 0, 1, 1, 1, 0, 1, 1, 1, 1, 1, 0, 0, 0, 0, 0, 0, 0, 1, 0, 1, 0, 0, 1, 1, 1, 0, 1, 0, 1, 0, 0, 1, 1, 0, 0, 1, 0, 0, 1, 0, 0, 1, 1, 0, 1, 0, 0, 0, 1, 0, 1, 1, 1, 1, 1, 0, 1]\n",
            "1103\n"
          ]
        }
      ]
    },
    {
      "cell_type": "code",
      "source": [
        "df5['Resistance']= resistance\n",
        "print(df5.head())"
      ],
      "metadata": {
        "id": "hBkUe18icl3b",
        "colab": {
          "base_uri": "https://localhost:8080/"
        },
        "outputId": "be289ebe-4b1c-405e-bb3f-760f33e6cad1"
      },
      "execution_count": 11,
      "outputs": [
        {
          "output_type": "stream",
          "name": "stdout",
          "text": [
            "   BIC  CAB  DTG    EVG  RAL  P1  P9  P15  P19  P29  ...  P286_N  P287_0  \\\n",
            "0  NaN  NaN  NaN    4.9  1.4   0   0    0    0    0  ...   False    True   \n",
            "1  NaN  NaN  NaN  160.0  6.4   0   0    0    0    0  ...   False    True   \n",
            "2  NaN  NaN  NaN   11.0  6.9   0   0    0    0    0  ...   False    True   \n",
            "3  NaN  NaN  NaN    4.0  NaN   0   0    0    0    0  ...   False    True   \n",
            "4  NaN  NaN  NaN  182.0  5.7   0   0    0    0    0  ...   False    True   \n",
            "\n",
            "   P287_.  P287_EK  P288_0  P288_.  P288_DN  P288_N  P288_X  Resistance  \n",
            "0   False    False    True   False    False   False   False           1  \n",
            "1   False    False    True   False    False   False   False           1  \n",
            "2   False    False    True   False    False   False   False           1  \n",
            "3   False    False    True   False    False   False   False           1  \n",
            "4   False    False    True   False    False   False   False           1  \n",
            "\n",
            "[5 rows x 1139 columns]\n"
          ]
        }
      ]
    },
    {
      "cell_type": "code",
      "source": [
        "columns_to_exclude = ['BIC', 'CAB', 'DTG', 'EVG', 'RAL', 'Resistance']\n",
        "df_selected = df5.drop(columns=columns_to_exclude)\n",
        "X = df_selected\n",
        "y= df5['Resistance']"
      ],
      "metadata": {
        "id": "28tsXSAZdJ4n"
      },
      "execution_count": 13,
      "outputs": []
    },
    {
      "cell_type": "code",
      "source": [
        "#Divide dataset into k-fold\n",
        "from sklearn.model_selection import KFold\n",
        "from sklearn.model_selection import cross_val_score\n",
        "\n",
        "cv = KFold(n_splits=10, random_state=1, shuffle=True)"
      ],
      "metadata": {
        "id": "wZP6CtetQwIv"
      },
      "execution_count": 14,
      "outputs": []
    },
    {
      "cell_type": "code",
      "source": [
        "#log regression model\n",
        "from numpy import mean\n",
        "from numpy import std\n",
        "from sklearn.linear_model import LogisticRegression\n",
        "\n",
        "my_lambda = 10\n",
        "c = 1/my_lambda\n",
        "model = LogisticRegression(solver='liblinear', penalty='l1', C=c)\n",
        "score = cross_val_score(model, X, y, cv=cv, n_jobs=-1)\n",
        "\n",
        "print(score)\n",
        "print(mean(score))\n",
        "print(std(score))"
      ],
      "metadata": {
        "id": "Pq3b88lJeRmf",
        "colab": {
          "base_uri": "https://localhost:8080/"
        },
        "outputId": "d52025f0-9715-47ce-efa3-f8f2be6820ee"
      },
      "execution_count": 15,
      "outputs": [
        {
          "output_type": "stream",
          "name": "stdout",
          "text": [
            "[0.85585586 0.88288288 0.85585586 0.81818182 0.84545455 0.9\n",
            " 0.80909091 0.89090909 0.88181818 0.93636364]\n",
            "0.8676412776412776\n",
            "0.0365909264484429\n"
          ]
        }
      ]
    },
    {
      "cell_type": "code",
      "source": [
        "from sklearn.model_selection import train_test_split\n",
        "X_train, X_test, y_train, y_test = train_test_split(X, y, test_size=0.2, random_state=10)"
      ],
      "metadata": {
        "id": "k4oTmE_VCkKC"
      },
      "execution_count": 16,
      "outputs": []
    },
    {
      "cell_type": "code",
      "source": [
        "final_model = model.fit(X_train, y_train)\n",
        "prediction = final_model.predict(X_test)\n",
        "#metrics\n",
        "from sklearn import metrics\n",
        "cnf_matrix = metrics.confusion_matrix(y_test, prediction)\n"
      ],
      "metadata": {
        "id": "X0VCLZdMeaCF"
      },
      "execution_count": 17,
      "outputs": []
    },
    {
      "cell_type": "code",
      "source": [
        "#Gert coefficients\n",
        "import sys\n",
        "import numpy as np\n",
        "np.set_printoptions(threshold=sys.maxsize)\n",
        "print(final_model.coef_)"
      ],
      "metadata": {
        "id": "3zGpNsgqgUYw",
        "colab": {
          "base_uri": "https://localhost:8080/"
        },
        "outputId": "33de936d-e140-4fd6-ef1b-441c89339e5b"
      },
      "execution_count": 18,
      "outputs": [
        {
          "output_type": "stream",
          "name": "stdout",
          "text": [
            "[[ 0.          0.          0.          0.          0.          0.\n",
            "   0.          0.          0.          0.          0.          0.\n",
            "   0.          0.          0.          0.          0.          0.\n",
            "   0.          0.          0.          0.          0.          0.\n",
            "   0.          0.          0.          0.          0.          0.\n",
            "   0.          0.          0.          0.          0.          0.\n",
            "   0.          0.          0.          0.          0.          0.\n",
            "   0.          0.          0.          0.          0.          0.\n",
            "   0.          0.          0.          0.          0.          0.\n",
            "   0.          0.          0.          0.          0.          0.\n",
            "   0.          0.          0.          0.          0.          0.\n",
            "   0.          0.          0.          0.          0.26733928  0.\n",
            "   0.          0.          0.          0.          0.          0.\n",
            "   0.          0.          0.          0.          0.          0.\n",
            "   0.11035869  0.          0.          0.          0.          0.\n",
            "   0.          0.          0.          0.          0.          0.\n",
            "   0.          0.          0.          0.          0.          0.\n",
            "   0.          0.          0.          0.          0.          0.\n",
            "   0.          0.          0.          0.          0.          0.\n",
            "   0.          0.          0.          0.          0.          0.\n",
            "   0.          0.          0.          0.          0.          0.\n",
            "   0.          0.          0.          0.          0.          0.\n",
            "   0.          0.          0.          0.          0.          0.\n",
            "   0.          0.          0.          0.          0.          0.\n",
            "   0.          0.          0.          0.          0.          0.\n",
            "   0.          0.          0.          0.          0.          0.\n",
            "   0.          0.          0.          0.          0.          0.\n",
            "   0.          0.          0.          0.          0.          0.\n",
            "   0.          0.          0.          0.          0.          0.\n",
            "   0.          0.          0.          0.          0.          0.\n",
            "   0.          0.          0.          0.          0.          0.\n",
            "   0.          0.          0.          0.          0.          0.\n",
            "   0.          0.          0.          0.          0.          0.\n",
            "   0.          0.          0.          0.          0.          0.\n",
            "   0.          0.          0.          0.          0.          0.\n",
            "   0.          0.          0.          0.          0.          0.\n",
            "   0.          0.          0.          0.          0.          0.\n",
            "   0.          0.          0.          0.          0.          0.\n",
            "   0.          0.          0.          0.          0.          0.\n",
            "   0.          0.          0.          0.          0.          0.\n",
            "   0.          0.          0.          0.          0.          0.\n",
            "   0.          0.          0.          0.          0.          0.\n",
            "   0.          0.          0.          0.          0.          0.\n",
            "   0.          0.          0.          0.          0.          0.\n",
            "   0.          0.          0.          0.          0.          0.\n",
            "   0.          0.          0.          0.          0.          0.\n",
            "   0.          0.          0.          0.          0.          0.\n",
            "   0.          0.          0.          0.          0.          0.\n",
            "   0.          0.          0.          0.          0.          0.\n",
            "   0.          0.          0.          0.          0.          0.\n",
            "   1.23525708  0.          0.          0.          0.          0.\n",
            "   0.          0.          0.          0.          0.          0.\n",
            "   0.          0.          0.          0.          0.          0.\n",
            "   0.          0.          0.          0.          0.          0.\n",
            "   0.          0.          0.          0.          0.          0.\n",
            "   0.          0.          0.          0.          0.          0.\n",
            "   0.          0.          0.          0.          0.          0.\n",
            "   0.          0.          0.          0.          0.          0.\n",
            "   0.          0.          0.          0.          0.          0.\n",
            "   0.          0.          0.          0.          0.          0.\n",
            "   0.          0.         -0.94647132  0.          0.          0.\n",
            "   0.          0.          0.          0.          0.          0.\n",
            "   0.          0.          0.          0.          0.          0.\n",
            "   0.          0.          0.          0.          0.          0.\n",
            "   1.61005786  0.          0.          0.          0.          0.\n",
            "   0.          0.          0.          0.          0.          0.\n",
            "   0.          0.          0.27398188  0.          0.          0.\n",
            "   0.          0.          0.          0.          0.          0.\n",
            "   0.          0.          0.          0.          0.          0.\n",
            "   0.          0.          0.          0.          0.40388236  0.\n",
            "   0.          0.          0.          0.          0.          0.\n",
            "   0.          0.          0.          0.          0.          0.\n",
            "   0.          0.          0.          0.          0.          0.\n",
            "   0.          0.          0.          0.          0.          0.\n",
            "   0.          0.          0.          0.          0.          0.\n",
            "   0.          0.          0.00711084  0.          0.          0.\n",
            "   0.          0.          0.          0.          0.          0.\n",
            "   0.          0.          0.          0.          0.57938062  0.\n",
            "   0.          0.          0.          0.          0.          0.\n",
            "   0.          0.          0.          0.          0.          0.\n",
            "   0.          0.          0.          0.          0.          0.\n",
            "   0.          0.          0.          0.          0.          0.\n",
            "   0.          0.33500391  0.          0.          0.          0.\n",
            "   0.          0.          0.          0.          0.          0.\n",
            "   0.0862782   0.          0.          0.          0.          0.\n",
            "   0.          0.          0.          0.          0.          0.\n",
            "   0.          0.          0.          0.          0.          0.\n",
            "   0.          0.          0.          0.          0.          0.\n",
            "   0.          0.          0.          0.          0.          0.\n",
            "   0.          0.          0.          0.          0.          0.\n",
            "   0.          0.          0.          0.          0.          0.\n",
            "   0.          0.          0.          0.          0.          0.\n",
            "   0.          0.          0.          0.          0.          0.\n",
            "   0.          0.          0.          0.          0.          0.\n",
            "   0.          0.          0.          0.02449531  0.          0.\n",
            "   0.          0.          0.          0.          0.         -0.39072999\n",
            "   0.          0.          0.          0.          0.          0.\n",
            "   0.          0.          0.          0.          0.          0.\n",
            "   0.          0.          0.          0.          0.          0.\n",
            "   0.          0.          0.          0.         -2.40823389  0.\n",
            "   0.          0.          0.          0.          0.          0.\n",
            "   0.          0.          0.          0.          0.          0.\n",
            "   0.          0.          0.          0.          0.          0.\n",
            "   0.          0.          0.          0.          0.          0.\n",
            "   0.          1.84403416  0.          0.          0.          0.\n",
            "   0.          0.          0.          0.          0.          0.\n",
            "   0.          0.          0.          0.          0.          0.\n",
            "   0.          0.          0.          0.          0.          0.\n",
            "   0.          0.          0.          0.          0.          0.\n",
            "   0.          0.          0.          0.          0.          0.\n",
            "   0.          0.          0.          0.          0.          0.\n",
            "   0.          0.          0.          0.          0.          0.\n",
            "   0.          0.          0.          0.          0.          0.\n",
            "   0.          0.          0.          0.          0.          0.\n",
            "   0.          0.          0.          0.          0.          0.\n",
            "   0.          0.          0.          0.          0.          0.\n",
            "   0.          0.          0.          0.          0.          0.\n",
            "   0.          0.          0.          0.          0.          0.\n",
            "   0.          0.          0.          0.          0.          0.\n",
            "   0.          0.          0.          0.          0.          0.\n",
            "   0.13919778  0.          0.          0.          0.          0.\n",
            "   0.          0.          0.          0.          0.          0.\n",
            "   0.          0.          0.          0.          0.          0.\n",
            "   0.          0.          0.          0.          0.          0.\n",
            "   0.          0.          0.          0.          0.          0.\n",
            "   0.          0.          0.          0.          0.          0.\n",
            "   0.          0.          0.          0.          0.          0.\n",
            "   0.          0.          0.          0.          0.          0.\n",
            "   0.          0.          0.39523316  0.          0.          0.\n",
            "   0.          0.          0.          0.          0.          0.\n",
            "   0.          0.          0.          0.          0.          0.\n",
            "   0.          0.          0.          0.          0.          0.\n",
            "   0.          0.          0.          0.          0.          0.\n",
            "   0.          0.          0.          0.          0.          0.\n",
            "   0.          0.          0.          0.          0.          0.\n",
            "   0.          0.          0.          0.          0.          0.\n",
            "   0.          0.          0.          0.          0.          0.\n",
            "   0.          0.          0.          0.          0.          0.\n",
            "   0.          0.          0.          0.          0.          0.\n",
            "   0.          0.          0.          0.          0.          0.\n",
            "   0.          0.          0.          0.          0.          0.\n",
            "   0.          0.          0.          0.          0.          0.\n",
            "   0.          0.          0.          0.          0.          0.\n",
            "   0.          0.          0.          0.25819812  0.          0.\n",
            "   0.          0.          0.          0.          0.          0.\n",
            "   0.          0.          0.          0.          0.          0.\n",
            "   0.          0.          0.          0.          0.          0.\n",
            "   0.          0.          0.          0.          0.          0.\n",
            "   0.          0.          0.          0.          0.          0.\n",
            "   0.          0.          0.          0.          0.          0.\n",
            "   0.          0.          0.          0.          0.          0.\n",
            "   0.          0.          0.          0.          0.          0.\n",
            "   0.          0.          0.          0.          0.          0.\n",
            "   0.          0.          0.          0.          0.          0.\n",
            "   0.          0.          0.          0.          0.          0.\n",
            "   0.          0.          0.          0.          0.          0.\n",
            "   0.          0.          0.          0.          0.          0.\n",
            "   0.          0.          0.          0.          0.          0.\n",
            "   0.          0.          0.          0.          0.          0.\n",
            "   0.          0.          0.          0.          0.          0.\n",
            "   0.          0.          0.          0.          0.          0.\n",
            "   0.          0.          0.          0.          0.          0.\n",
            "   0.          0.          0.          0.          0.          0.\n",
            "   0.          0.          0.          0.          0.          0.\n",
            "   0.          0.          0.          0.          0.          0.\n",
            "   0.          0.          0.          0.          0.          0.\n",
            "   0.          0.          0.          0.          0.          0.\n",
            "   0.          0.55375571  0.          0.          0.          0.\n",
            "   0.          0.          0.          0.          0.          0.\n",
            "   0.          0.          0.          0.          0.          0.\n",
            "   0.          0.          0.          0.          0.          0.\n",
            "   0.          0.          0.          0.          0.          0.\n",
            "   0.          0.          0.          0.          0.          0.\n",
            "   0.12609485  0.          0.          0.          0.          0.\n",
            "   0.          0.          0.          0.          0.          0.\n",
            "   0.          0.          0.          0.          0.          0.\n",
            "   0.          0.          0.          0.          0.          0.\n",
            "   0.          0.          0.          0.          0.          0.\n",
            "   0.          0.          0.          0.          0.          0.\n",
            "   0.          0.          0.          0.          0.          0.\n",
            "   0.          0.          0.          0.          0.          0.\n",
            "   0.          0.          0.          0.          0.          0.\n",
            "   0.          0.          0.          0.          0.          0.\n",
            "   0.          0.          0.          0.          0.          0.\n",
            "   0.          0.          0.          0.          0.          0.\n",
            "   0.          0.          0.          0.          0.          0.\n",
            "   0.          0.          0.          0.          0.          0.\n",
            "   0.          0.          0.          0.          0.          0.\n",
            "   0.          0.          0.          0.          0.        ]]\n"
          ]
        }
      ]
    },
    {
      "cell_type": "code",
      "source": [
        "coef_list = final_model.coef_.tolist()\n",
        "index_list = []\n",
        "\n",
        "for i in range(len(coef_list[0])):\n",
        "  if coef_list[0][i] != 0:\n",
        "    index_list.append(i)\n",
        "\n",
        "\n",
        "print(index_list)\n",
        "\n",
        "col_names = X.columns.values.tolist()\n",
        "print(col_names[466])\n",
        "\n",
        "print(coef_list[0][466])\n",
        "\n",
        "for i in index_list:\n",
        "  print(col_names[i])\n",
        "  print(coef_list[0][i])\n",
        "\n",
        "\n",
        "\n"
      ],
      "metadata": {
        "id": "h6nJvzBfj57x",
        "colab": {
          "base_uri": "https://localhost:8080/"
        },
        "outputId": "e665b9ac-7f7b-4f5f-a990-224b4b69fc35"
      },
      "execution_count": 19,
      "outputs": [
        {
          "output_type": "stream",
          "name": "stdout",
          "text": [
            "[70, 84, 300, 362, 384, 398, 418, 452, 466, 493, 504, 567, 575, 598, 625, 720, 770, 861, 1003, 1038]\n",
            "P118_R\n",
            "0.579380622578292\n",
            "P11_0\n",
            "0.26733928449006394\n",
            "P17_0\n",
            "0.11035868752458854\n",
            "P72_V\n",
            "1.2352570788784945\n",
            "P92_0\n",
            "-0.946471322001362\n",
            "P97_A\n",
            "1.6100578578647633\n",
            "P101_0\n",
            "0.27398188448529176\n",
            "P111_0\n",
            "0.40388236424969315\n",
            "P113_V\n",
            "0.007110842130442244\n",
            "P118_R\n",
            "0.579380622578292\n",
            "P124_0\n",
            "0.335003908771353\n",
            "P125_0\n",
            "0.08627819579404133\n",
            "P140_S\n",
            "0.02449531332235302\n",
            "P143_0\n",
            "-0.3907299921682348\n",
            "P148_0\n",
            "-2.408233889469541\n",
            "P155_H\n",
            "1.8440341645324758\n",
            "P181_0\n",
            "0.1391977846667904\n",
            "P201_0\n",
            "0.3952331572794625\n",
            "P220_0\n",
            "0.2581981174901467\n",
            "P256_0\n",
            "0.553755712990441\n",
            "P265_0\n",
            "0.12609484788389053\n"
          ]
        }
      ]
    },
    {
      "cell_type": "code",
      "source": [
        "#classification report\n",
        "from sklearn.metrics import classification_report\n",
        "target_names = ['Not Resistant', 'Resistant']\n",
        "print(classification_report(y_test, prediction, target_names=target_names))"
      ],
      "metadata": {
        "id": "UkkIqbMyhP80",
        "colab": {
          "base_uri": "https://localhost:8080/"
        },
        "outputId": "36896510-8616-4c53-c1b8-ff826785c0e0"
      },
      "execution_count": 20,
      "outputs": [
        {
          "output_type": "stream",
          "name": "stdout",
          "text": [
            "               precision    recall  f1-score   support\n",
            "\n",
            "Not Resistant       0.83      0.94      0.89       127\n",
            "    Resistant       0.91      0.74      0.82        94\n",
            "\n",
            "     accuracy                           0.86       221\n",
            "    macro avg       0.87      0.84      0.85       221\n",
            " weighted avg       0.87      0.86      0.86       221\n",
            "\n"
          ]
        }
      ]
    },
    {
      "cell_type": "code",
      "source": [
        "\n",
        "import numpy as np\n",
        "import matplotlib.pyplot as plt\n",
        "import seaborn as sns\n",
        "\n",
        "class_names=['Not Resistant', 'Resistant'] # name  of classes\n",
        "fig, ax = plt.subplots()\n",
        "# create confusion matrix\n",
        "sns.heatmap(pd.DataFrame(cnf_matrix), annot=True, cmap=\"YlGnBu\" ,fmt='g', annot_kws={\"size\": 14, \"weight\": \"bold\"})\n",
        "ax.xaxis.set_label_position(\"top\")\n",
        "plt.tight_layout()\n",
        "plt.ylabel('Actual label', fontsize=12, fontweight=\"bold\")\n",
        "plt.xlabel('Predicted label', fontsize=12, fontweight=\"bold\")\n",
        "ax.set_xticklabels(class_names, fontsize=12, fontweight=\"bold\" )\n",
        "ax.set_yticklabels(class_names, fontsize=12, fontweight=\"bold\" )\n",
        "ax.xaxis.set_label_position('bottom')\n",
        "cbar = ax.collections[0].colorbar\n",
        "cbar.ax.tick_params(labelsize=12, labelcolor='black')  # Tick size and color\n",
        "for label in cbar.ax.get_yticklabels():\n",
        "    label.set_fontweight(\"bold\")\n",
        "\n"
      ],
      "metadata": {
        "id": "_FOnIUQfcJq6",
        "colab": {
          "base_uri": "https://localhost:8080/",
          "height": 516
        },
        "outputId": "51d7ab70-031e-499e-b478-5c5a1108bba8"
      },
      "execution_count": 22,
      "outputs": [
        {
          "output_type": "display_data",
          "data": {
            "text/plain": [
              "<Figure size 640x480 with 2 Axes>"
            ],
            "image/png": "[encoded data removed]"
          },
          "metadata": {}
        }
      ]
    },
    {
      "cell_type": "code",
      "source": [
        "#roc curve\n",
        "y_pred_proba = model.predict_proba(X_test)[::,1]\n",
        "fpr, tpr, _ = metrics.roc_curve(y_test,  y_pred_proba)\n",
        "auc = metrics.roc_auc_score(y_test, y_pred_proba)\n",
        "plt.plot(fpr,tpr,label=\"AUC=\"+str(round(auc, 2)))\n",
        "plt.legend(loc=4)\n",
        "plt.title('ROC Curve for Final Model')\n",
        "plt.ylabel('True Positive Rate')\n",
        "plt.xlabel('False Positive Rate')\n",
        "plt.show()"
      ],
      "metadata": {
        "id": "ZGGDHJOydP3H",
        "colab": {
          "base_uri": "https://localhost:8080/",
          "height": 472
        },
        "outputId": "8c863195-af64-4e76-90fe-5111b4f0ac08"
      },
      "execution_count": 23,
      "outputs": [
        {
          "output_type": "display_data",
          "data": {
            "text/plain": [
              "<Figure size 640x480 with 1 Axes>"
            ],
            "image/png": "[encoded data removed]"
          },
          "metadata": {}
        }
      ]
    }
  ]
}