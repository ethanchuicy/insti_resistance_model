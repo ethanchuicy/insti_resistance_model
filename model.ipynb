{
  "nbformat": 4,
  "nbformat_minor": 0,
  "metadata": {
    "colab": {
      "provenance": [],
      "authorship_tag": "ABX9TyO6tXFfEJh0S63i1kfKmyE3",
      "include_colab_link": true
    },
    "kernelspec": {
      "name": "python3",
      "display_name": "Python 3"
    },
    "language_info": {
      "name": "python"
    }
  },
  "cells": [
    {
      "cell_type": "markdown",
      "metadata": {
        "id": "view-in-github",
        "colab_type": "text"
      },
      "source": [
        "<a href=\"https://colab.research.google.com/github/ethanchuicy/insti_resistance_model/blob/main/model.ipynb\" target=\"_parent\"><img src=\"https://colab.research.google.com/assets/colab-badge.svg\" alt=\"Open In Colab\"/></a>"
      ]
    },
    {
      "cell_type": "code",
      "execution_count": null,
      "metadata": {
        "id": "RYlKe0_-Criw"
      },
      "outputs": [],
      "source": [
        "#Import dataset\n",
        "import pandas as pd\n",
        "col_names = []\n",
        "df = pd.read_csv('/integrase_dataset', sep='\\t')\n",
        "print(df)"
      ]
    },
    {
      "cell_type": "code",
      "source": [
        "df = df.drop(columns = ['RefID', 'IsolateID', 'IsolateName', 'Species', 'Type', 'PtID', 'Method'])\n",
        "print(df.head())"
      ],
      "metadata": {
        "id": "FeekzCSIEJfa"
      },
      "execution_count": null,
      "outputs": []
    },
    {
      "cell_type": "code",
      "source": [
        "df1= df.drop(columns = ['BICFoldMatch', 'CABFoldMatch', 'DTGFoldMatch', 'EVGFoldMatch', 'RALFoldMatch', 'CompleteMutationListAvailable', 'Author'])\n",
        "print(df1.head())"
      ],
      "metadata": {
        "id": "J75x2mOfF-93"
      },
      "execution_count": null,
      "outputs": []
    },
    {
      "cell_type": "code",
      "source": [
        "df2= df1.drop(columns=['INIMajorDRMs', 'INIMinorDRMs', 'NonDRMs', 'RefYear', 'MedlineID'])\n",
        "print(df2.head())"
      ],
      "metadata": {
        "id": "hZ1ubuilHToQ"
      },
      "execution_count": null,
      "outputs": []
    },
    {
      "cell_type": "code",
      "source": [
        "df3= df2.drop(columns=['Title'])\n",
        "print(df3.head())"
      ],
      "metadata": {
        "id": "F6-FgTjpHo35"
      },
      "execution_count": null,
      "outputs": []
    },
    {
      "cell_type": "code",
      "source": [
        "all_pos_columns = [f'P{i}' for i in range(1, 289)]\n",
        "df3[all_pos_columns] = df3[all_pos_columns].replace('-', 0)\n",
        "print(df3.head())"
      ],
      "metadata": {
        "id": "cJBJ-HVLH3mC"
      },
      "execution_count": null,
      "outputs": []
    },
    {
      "cell_type": "code",
      "source": [
        "#Apply one-hot encoding\n",
        "encoded_df = pd.get_dummies(df3[all_pos_columns])\n",
        "\n",
        "\n",
        "df4 = df3.drop(all_pos_columns, axis=1)\n",
        "df5 = pd.concat([df4, encoded_df], axis=1)\n",
        "\n",
        "\n",
        "print(df5)"
      ],
      "metadata": {
        "id": "mirhjLM7OeA_"
      },
      "execution_count": null,
      "outputs": []
    },
    {
      "cell_type": "code",
      "source": [
        "df5['EVG'] = pd.to_numeric(df5['EVG'], errors='coerce')\n"
      ],
      "metadata": {
        "id": "75GAK9kpWJDw"
      },
      "execution_count": null,
      "outputs": []
    },
    {
      "cell_type": "code",
      "source": [
        "df5['RAL'] = pd.to_numeric(df5['RAL'], errors='coerce')"
      ],
      "metadata": {
        "id": "4nPa6CZFcSFZ"
      },
      "execution_count": null,
      "outputs": []
    },
    {
      "cell_type": "code",
      "source": [
        "df_filled = df5.fillna(-999)\n",
        "bic_list = df_filled['BIC'].to_list()\n",
        "cab_list = df_filled['CAB'].to_list()\n",
        "dtg_list = df_filled['DTG'].to_list()\n",
        "evg_list = df_filled['EVG'].to_list()\n",
        "ral_list = df_filled['RAL'].to_list()\n",
        "\n",
        "resistance= []\n",
        "\n",
        "for i in range(0, 1103):\n",
        "  if bic_list[i]>3.5:\n",
        "    resistance.append(1)\n",
        "  elif cab_list[i]>3.5:\n",
        "    resistance.append(1)\n",
        "  elif dtg_list[i]>3.5:\n",
        "    resistance.append(1)\n",
        "  elif evg_list[i]>3.5:\n",
        "    resistance.append(1)\n",
        "  elif ral_list[i]>3.5:\n",
        "    resistance.append(1)\n",
        "  else:\n",
        "    resistance.append(0)\n",
        "\n",
        "print(resistance)\n",
        "print(len(resistance))"
      ],
      "metadata": {
        "id": "diuKXr4GQ9Un"
      },
      "execution_count": null,
      "outputs": []
    },
    {
      "cell_type": "code",
      "source": [
        "df5['Resistance']= resistance\n",
        "print(df5.head())"
      ],
      "metadata": {
        "id": "hBkUe18icl3b"
      },
      "execution_count": null,
      "outputs": []
    },
    {
      "cell_type": "code",
      "source": [
        "columns_to_exclude = ['BIC', 'CAB', 'DTG', 'EVG', 'RAL', 'Resistance']\n",
        "df_selected = df5.drop(columns=columns_to_exclude)\n",
        "X = df_selected\n",
        "y= df5['Resistance']"
      ],
      "metadata": {
        "id": "28tsXSAZdJ4n"
      },
      "execution_count": null,
      "outputs": []
    },
    {
      "cell_type": "code",
      "source": [
        "#Divide dataset into k-fold\n",
        "from sklearn.model_selection import KFold\n",
        "from sklearn.model_selection import cross_val_score\n",
        "\n",
        "cv = KFold(n_splits=10, random_state=1, shuffle=True)"
      ],
      "metadata": {
        "id": "wZP6CtetQwIv"
      },
      "execution_count": null,
      "outputs": []
    },
    {
      "cell_type": "code",
      "source": [
        "#log regression model\n",
        "from numpy import mean\n",
        "from numpy import std\n",
        "from sklearn.linear_model import LogisticRegression\n",
        "\n",
        "my_lambda = 10\n",
        "c = 1/my_lambda\n",
        "model = LogisticRegression(solver='liblinear', penalty='l1', C=c)\n",
        "score = cross_val_score(model, X, y, cv=cv, n_jobs=-1)\n",
        "\n",
        "print(score)\n",
        "print(mean(score))\n",
        "print(std(score))"
      ],
      "metadata": {
        "id": "Pq3b88lJeRmf"
      },
      "execution_count": null,
      "outputs": []
    },
    {
      "cell_type": "code",
      "source": [
        "from sklearn.model_selection import train_test_split\n",
        "X_train, X_test, y_train, y_test = train_test_split(X, y, test_size=0.2, random_state=10)"
      ],
      "metadata": {
        "id": "k4oTmE_VCkKC"
      },
      "execution_count": null,
      "outputs": []
    },
    {
      "cell_type": "code",
      "source": [
        "final_model = model.fit(X_train, y_train)\n",
        "prediction = final_model.predict(X_test)\n",
        "#metrics\n",
        "from sklearn import metrics\n",
        "cnf_matrix = metrics.confusion_matrix(y_test, prediction)\n"
      ],
      "metadata": {
        "id": "X0VCLZdMeaCF"
      },
      "execution_count": null,
      "outputs": []
    },
    {
      "cell_type": "code",
      "source": [
        "#Gert coefficients\n",
        "import sys\n",
        "import numpy as np\n",
        "np.set_printoptions(threshold=sys.maxsize)\n",
        "print(final_model.coef_)"
      ],
      "metadata": {
        "id": "3zGpNsgqgUYw"
      },
      "execution_count": null,
      "outputs": []
    },
    {
      "cell_type": "code",
      "source": [
        "coef_list = final_model.coef_.tolist()\n",
        "index_list = []\n",
        "\n",
        "for i in range(len(coef_list[0])):\n",
        "  if coef_list[0][i] != 0:\n",
        "    index_list.append(i)\n",
        "\n",
        "\n",
        "print(index_list)\n",
        "\n",
        "col_names = X.columns.values.tolist()\n",
        "print(col_names[466])\n",
        "\n",
        "print(coef_list[0][466])\n",
        "\n",
        "for i in index_list:\n",
        "  print(col_names[i])\n",
        "  print(coef_list[0][i])\n",
        "\n",
        "\n",
        "\n"
      ],
      "metadata": {
        "id": "h6nJvzBfj57x"
      },
      "execution_count": null,
      "outputs": []
    },
    {
      "cell_type": "code",
      "source": [
        "#classification report\n",
        "from sklearn.metrics import classification_report\n",
        "target_names = ['Not Resistant', 'Resistant']\n",
        "print(classification_report(y_test, prediction, target_names=target_names))"
      ],
      "metadata": {
        "id": "UkkIqbMyhP80"
      },
      "execution_count": null,
      "outputs": []
    },
    {
      "cell_type": "code",
      "source": [
        "\n",
        "import numpy as np\n",
        "import matplotlib.pyplot as plt\n",
        "import seaborn as sns\n",
        "\n",
        "class_names=['Not Resistant', 'Resistant'] # name  of classes\n",
        "fig, ax = plt.subplots()\n",
        "# create confusion matrix\n",
        "sns.heatmap(pd.DataFrame(cnf_matrix), annot=True, cmap=\"YlGnBu\" ,fmt='g', annot_kws={\"size\": 14, \"weight\": \"bold\"})\n",
        "ax.xaxis.set_label_position(\"top\")\n",
        "plt.tight_layout()\n",
        "plt.ylabel('Actual label', fontsize=12, fontweight=\"bold\")\n",
        "plt.xlabel('Predicted label', fontsize=12, fontweight=\"bold\")\n",
        "ax.set_xticklabels(class_names, fontsize=12, fontweight=\"bold\" )\n",
        "ax.set_yticklabels(class_names, fontsize=12, fontweight=\"bold\" )\n",
        "cbar = ax.collections[0].colorbar\n",
        "cbar.ax.tick_params(labelsize=12, labelcolor='black')  # Tick size and color\n",
        "for label in cbar.ax.get_yticklabels():\n",
        "    label.set_fontweight(\"bold\")\n",
        "\n"
      ],
      "metadata": {
        "id": "_FOnIUQfcJq6"
      },
      "execution_count": null,
      "outputs": []
    },
    {
      "cell_type": "code",
      "source": [
        "#roc curve\n",
        "y_pred_proba = model.predict_proba(X_test)[::,1]\n",
        "fpr, tpr, _ = metrics.roc_curve(y_test,  y_pred_proba)\n",
        "auc = metrics.roc_auc_score(y_test, y_pred_proba)\n",
        "plt.plot(fpr,tpr,label=\"AUC=\"+str(round(auc, 2)))\n",
        "plt.legend(loc=4)\n",
        "plt.title('ROC Curve for Final Model')\n",
        "plt.ylabel('True Positive Rate')\n",
        "plt.xlabel('False Positive Rate')\n",
        "plt.show()"
      ],
      "metadata": {
        "id": "ZGGDHJOydP3H"
      },
      "execution_count": null,
      "outputs": []
    }
  ]
}